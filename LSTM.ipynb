{
 "cells": [
  {
   "cell_type": "code",
   "execution_count": 7,
   "metadata": {},
   "outputs": [],
   "source": [
    "import torch\n",
    "import torch.nn as nn\n",
    "import json\n",
    "import pickle"
   ]
  },
  {
   "cell_type": "code",
   "execution_count": 2,
   "metadata": {},
   "outputs": [],
   "source": [
    "with open('./MovieReview_SentimentAnalysis-main/top_10000_words.json',encoding='UTF-8') as file:\n",
    "    data = json.load(file)\n",
    "    "
   ]
  },
  {
   "cell_type": "code",
   "execution_count": 4,
   "metadata": {},
   "outputs": [],
   "source": [
    "look_up_table = {word : i for i, word in enumerate(data)}"
   ]
  },
  {
   "cell_type": "code",
   "execution_count": 5,
   "metadata": {},
   "outputs": [],
   "source": [
    "class BiLSTM_withAT(nn.Module):\n",
    "    def __init__(self,embeded_size):\n",
    "        super(BiLSTM_withAT,self).__init__()\n",
    "        self.embeded_size = embeded_size\n",
    "        self.embedding_layer = nn.Embedding(self.embeded_size,\n",
    "                                           embedding_dim = 4)\n",
    "        self.hidden_size = 64\n",
    "        self.lstm = nn.LSTM(4,self.hidden_size,bidirectional=True,batch_first=True)\n",
    "        self.linear = nn.Linear(self.hidden_size*2,1)\n",
    "        self.sigmoid = nn.Sigmoid()\n",
    "    def forward(self,x):\n",
    "        embedding = self.embedding_layer(x)\n",
    "        lstm_out, (ht,ct) = self.lstm(embedding)\n",
    "        out = self.linear(lstm_out[:,-1,:])\n",
    "        return self.sigmoid(out)\n",
    "        "
   ]
  },
  {
   "cell_type": "code",
   "execution_count": 6,
   "metadata": {},
   "outputs": [],
   "source": [
    "net = BiLSTM_withAT(len(look_up_table))"
   ]
  },
  {
   "cell_type": "code",
   "execution_count": 36,
   "metadata": {},
   "outputs": [],
   "source": [
    "with open(\"./MovieReview_SentimentAnalysis-main/trainDocs.pkl\",\"rb\") as file:\n",
    "    data = pickle.load(file)"
   ]
  },
  {
   "cell_type": "code",
   "execution_count": 37,
   "metadata": {},
   "outputs": [],
   "source": [
    "data_total = data"
   ]
  },
  {
   "cell_type": "code",
   "execution_count": 73,
   "metadata": {},
   "outputs": [],
   "source": [
    "train_total = []\n",
    "for data in data_total:\n",
    "    item_list = []\n",
    "    for item in data[0]:\n",
    "        if item in look_up_table:\n",
    "            item_list.append(look_up_table[item])\n",
    "    if(len(item_list)>0):\n",
    "        train_total.append([item_list,data[1]])\n",
    "train_x = [x[0] for x in train_total]\n",
    "train_y = [x[1] for x in train_total]"
   ]
  },
  {
   "cell_type": "code",
   "execution_count": null,
   "metadata": {},
   "outputs": [],
   "source": [
    "epoch = 20\n",
    "learning_rate = 1e-4\n",
    "optimizer = torch.optim.Adam(net.parameters(), lr=learning_rate)\n",
    "lossF = torch.nn.BCELoss()\n",
    "\n",
    "for i in range(0,epoch):\n",
    "    for data,label in zip(train_x,train_y):\n",
    "        data,label = torch.LongTensor([data]),torch.FloatTensor([label])\n",
    "        y_pred = net(data)\n",
    "        loss = lossF(y_pred,label)\n",
    "        optimizer.zero_grad()\n",
    "        loss.backward()\n",
    "    print(f'loss : {loss}')"
   ]
  },
  {
   "cell_type": "code",
   "execution_count": null,
   "metadata": {},
   "outputs": [],
   "source": []
  }
 ],
 "metadata": {
  "kernelspec": {
   "display_name": "Python 3",
   "language": "python",
   "name": "python3"
  },
  "language_info": {
   "codemirror_mode": {
    "name": "ipython",
    "version": 3
   },
   "file_extension": ".py",
   "mimetype": "text/x-python",
   "name": "python",
   "nbconvert_exporter": "python",
   "pygments_lexer": "ipython3",
   "version": "3.8.5"
  }
 },
 "nbformat": 4,
 "nbformat_minor": 4
}
